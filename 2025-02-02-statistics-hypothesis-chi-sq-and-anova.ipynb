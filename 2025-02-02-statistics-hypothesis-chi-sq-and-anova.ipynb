{
 "cells": [
  {
   "cell_type": "markdown",
   "metadata": {},
   "source": [
    "## Chi-square Hypothesis Test"
   ]
  },
  {
   "cell_type": "code",
   "execution_count": 1,
   "metadata": {},
   "outputs": [],
   "source": [
    "import scipy.stats as stats\n",
    "import numpy as np"
   ]
  },
  {
   "cell_type": "code",
   "execution_count": 2,
   "metadata": {},
   "outputs": [],
   "source": [
    "observed = np.array([[50,80],[30,50],[40,50]])"
   ]
  },
  {
   "cell_type": "code",
   "execution_count": 3,
   "metadata": {},
   "outputs": [
    {
     "data": {
      "text/plain": [
       "array([[50, 80],\n",
       "       [30, 50],\n",
       "       [40, 50]])"
      ]
     },
     "execution_count": 3,
     "metadata": {},
     "output_type": "execute_result"
    }
   ],
   "source": [
    "observed"
   ]
  },
  {
   "cell_type": "code",
   "execution_count": 6,
   "metadata": {},
   "outputs": [
    {
     "data": {
      "text/plain": [
       "Chi2ContingencyResult(statistic=np.float64(1.0772792022792022), pvalue=np.float64(0.5835415619187718), dof=2, expected_freq=array([[52., 78.],\n",
       "       [32., 48.],\n",
       "       [36., 54.]]))"
      ]
     },
     "execution_count": 6,
     "metadata": {},
     "output_type": "execute_result"
    }
   ],
   "source": [
    "stats.chi2_contingency(observed)"
   ]
  },
  {
   "cell_type": "code",
   "execution_count": 7,
   "metadata": {},
   "outputs": [],
   "source": [
    "i, p, dof, expected = stats.chi2_contingency(observed)"
   ]
  },
  {
   "cell_type": "code",
   "execution_count": 8,
   "metadata": {},
   "outputs": [
    {
     "data": {
      "text/plain": [
       "array([[52., 78.],\n",
       "       [32., 48.],\n",
       "       [36., 54.]])"
      ]
     },
     "execution_count": 8,
     "metadata": {},
     "output_type": "execute_result"
    }
   ],
   "source": [
    "expected"
   ]
  },
  {
   "cell_type": "code",
   "execution_count": 11,
   "metadata": {},
   "outputs": [
    {
     "data": {
      "text/plain": [
       "np.float64(0.5835415619187718)"
      ]
     },
     "execution_count": 11,
     "metadata": {},
     "output_type": "execute_result"
    }
   ],
   "source": [
    "p"
   ]
  },
  {
   "cell_type": "code",
   "execution_count": 9,
   "metadata": {},
   "outputs": [],
   "source": [
    "p1 = .05"
   ]
  },
  {
   "cell_type": "code",
   "execution_count": 12,
   "metadata": {},
   "outputs": [
    {
     "name": "stdout",
     "output_type": "stream",
     "text": [
      "Fail to reject the null hypothesis\n"
     ]
    }
   ],
   "source": [
    "if p < p1:\n",
    "    print(\"Reject the null hypothesis\")\n",
    "else:\n",
    "    print(\"Fail to reject the null hypothesis\")\n",
    "# The p-value is less than .05, so we reject the null hypothesis\n",
    "# and conclude that there is a significant difference in the proportions of\n",
    "# the two groups."
   ]
  },
  {
   "cell_type": "markdown",
   "metadata": {},
   "source": [
    "## Anova Hypothesis Test (acceptance of variance test)"
   ]
  },
  {
   "cell_type": "code",
   "execution_count": 13,
   "metadata": {},
   "outputs": [
    {
     "name": "stdout",
     "output_type": "stream",
     "text": [
      "                      Sum of Squares  Degrees of Freedom  Mean Squares  \\\n",
      "Between Groups (SSB)           926.4                   2    463.200000   \n",
      "Within Groups (SSW)            119.2                  12      9.933333   \n",
      "Total (SST)                   1045.6                  14           NaN   \n",
      "\n",
      "                      F-Statistic   P-Value  \n",
      "Between Groups (SSB)    46.630872  0.000002  \n",
      "Within Groups (SSW)           NaN       NaN  \n",
      "Total (SST)                   NaN       NaN  \n",
      "Since the p-value is < 0.05, we reject the null hypothesis. At least one fertilizer significantly affects plant growth.\n"
     ]
    }
   ],
   "source": [
    "import numpy as np\n",
    "import pandas as pd\n",
    "from scipy import stats\n",
    "\n",
    "# Given data\n",
    "fertilizer_A = np.array([55, 60, 52, 58, 62])\n",
    "fertilizer_B = np.array([65, 70, 68, 66, 72])\n",
    "fertilizer_C = np.array([75, 78, 74, 76, 80])\n",
    "\n",
    "# Step 1: Compute the Group Means\n",
    "mean_A = np.mean(fertilizer_A)\n",
    "mean_B = np.mean(fertilizer_B)\n",
    "mean_C = np.mean(fertilizer_C)\n",
    "\n",
    "data_combined = np.concatenate([fertilizer_A, fertilizer_B, fertilizer_C])\n",
    "overall_mean = np.mean(data_combined)\n",
    "\n",
    "# Step 2: Compute Sum of Squares Between Groups (SSB)\n",
    "n_A = len(fertilizer_A)\n",
    "n_B = len(fertilizer_B)\n",
    "n_C = len(fertilizer_C)\n",
    "\n",
    "SSB = (n_A * (mean_A - overall_mean) ** 2 +\n",
    "       n_B * (mean_B - overall_mean) ** 2 +\n",
    "       n_C * (mean_C - overall_mean) ** 2)\n",
    "\n",
    "# Step 3: Compute Sum of Squares Within Groups (SSW)\n",
    "SSW_A = np.sum((fertilizer_A - mean_A) ** 2)\n",
    "SSW_B = np.sum((fertilizer_B - mean_B) ** 2)\n",
    "SSW_C = np.sum((fertilizer_C - mean_C) ** 2)\n",
    "SSW = SSW_A + SSW_B + SSW_C\n",
    "\n",
    "# Step 4: Compute Total Sum of Squares (SST)\n",
    "SST = SSB + SSW\n",
    "\n",
    "# Step 5: Compute Mean Squares (MSB and MSW)\n",
    "k = 3  # Number of groups (fertilizers)\n",
    "N = len(data_combined)  # Total number of observations\n",
    "\n",
    "MSB = SSB / (k - 1)\n",
    "MSW = SSW / (N - k)\n",
    "\n",
    "# Step 6: Compute F-statistic\n",
    "F_statistic = MSB / MSW\n",
    "\n",
    "# Step 7: Compute p-value\n",
    "p_value = 1 - stats.f.cdf(F_statistic, k - 1, N - k)\n",
    "\n",
    "# Organizing the results into a readable DataFrame\n",
    "anova_manual_results = pd.DataFrame({\n",
    "    \"Sum of Squares\": [SSB, SSW, SST],\n",
    "    \"Degrees of Freedom\": [k - 1, N - k, N - 1],\n",
    "    \"Mean Squares\": [MSB, MSW, None],\n",
    "    \"F-Statistic\": [F_statistic, None, None],\n",
    "    \"P-Value\": [p_value, None, None]\n",
    "}, index=[\"Between Groups (SSB)\", \"Within Groups (SSW)\", \"Total (SST)\"])\n",
    "\n",
    "# Display the detailed manual ANOVA calculation results\n",
    "print(anova_manual_results)\n",
    "\n",
    "# Final Interpretation\n",
    "if p_value < 0.05:\n",
    "    manual_result = \"Since the p-value is < 0.05, we reject the null hypothesis. At least one fertilizer significantly affects plant growth.\"\n",
    "else:\n",
    "    manual_result = \"Since the p-value is ≥ 0.05, we fail to reject the null hypothesis. The fertilizers have similar effects on plant growth.\"\n",
    "\n",
    "# Display final interpretation\n",
    "print(manual_result)"
   ]
  },
  {
   "cell_type": "code",
   "execution_count": null,
   "metadata": {},
   "outputs": [],
   "source": []
  }
 ],
 "metadata": {
  "kernelspec": {
   "display_name": "myenv-fsds",
   "language": "python",
   "name": "python3"
  },
  "language_info": {
   "codemirror_mode": {
    "name": "ipython",
    "version": 3
   },
   "file_extension": ".py",
   "mimetype": "text/x-python",
   "name": "python",
   "nbconvert_exporter": "python",
   "pygments_lexer": "ipython3",
   "version": "3.11.11"
  }
 },
 "nbformat": 4,
 "nbformat_minor": 2
}
